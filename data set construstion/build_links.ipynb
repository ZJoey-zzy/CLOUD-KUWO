{
 "cells": [
  {
   "cell_type": "code",
   "execution_count": 1,
   "id": "901fb310",
   "metadata": {},
   "outputs": [],
   "source": [
    "import pandas as pd\n",
    "import numpy as np\n",
    "from pandasql import sqldf\n",
    "from collections import Counter\n",
    "import ast"
   ]
  },
  {
   "cell_type": "code",
   "execution_count": 2,
   "id": "b7181762",
   "metadata": {},
   "outputs": [],
   "source": [
    "cloud = pd.read_csv(\"processed_data/prossed_cloud.csv\", encoding='utf-8')\n",
    "kuwo = pd.read_csv(\"processed_data/prossed_kuwo.csv\", encoding='utf-8')"
   ]
  },
  {
   "cell_type": "code",
   "execution_count": 3,
   "id": "476695d3",
   "metadata": {},
   "outputs": [],
   "source": [
    "cloud_id2artist_df = pd.read_csv(\"id2name/cloud_id2artist\",header=None, encoding='utf-8',delimiter='\\t')\n",
    "kuwo_id2artist_df = pd.read_csv(\"id2name/kuwo_id2artist\", header=None, encoding='utf-8',delimiter='\\t')"
   ]
  },
  {
   "cell_type": "code",
   "execution_count": 4,
   "id": "2dd5b767",
   "metadata": {},
   "outputs": [],
   "source": [
    "def build_single_relation(df,h,t,r):\n",
    "    h_t = df[[h,t]].drop_duplicates()\n",
    "    h_t['relation'] = [r] * h_t.shape[0]\n",
    "    return h_t[[h,'relation',t]]"
   ]
  },
  {
   "cell_type": "code",
   "execution_count": 5,
   "id": "62c77a33",
   "metadata": {
    "scrolled": false
   },
   "outputs": [],
   "source": [
    "def build_single_bidirection_relation(df,h,t,r1,r2):\n",
    "    h_t = df[[h,t]].drop_duplicates()\n",
    "    h_t['relation1'] = [r1] * h_t.shape[0]\n",
    "    h_t['relation2'] = [r2] * h_t.shape[0]\n",
    "    return h_t[[h,'relation1',t]], h_t[[t,'relation2',h]]"
   ]
  },
  {
   "cell_type": "code",
   "execution_count": 6,
   "id": "894720a0",
   "metadata": {},
   "outputs": [],
   "source": [
    "def build_song2artist(df):\n",
    "    li = []\n",
    "    for i in range(df.shape[0]):\n",
    "        song = df.iloc[i].song_id\n",
    "        artists = ast.literal_eval(df.iloc[i].artist_id)\n",
    "        for artist in artists:\n",
    "            li.append([song, artist])\n",
    "    re_df = pd.DataFrame(li).drop_duplicates()\n",
    "    re_df.columns = ['song_id', 'artist_id']\n",
    "    re_df['relation1'] = ['sung_by'] * re_df.shape[0]\n",
    "    re_df['relation2'] = ['sings'] * re_df.shape[0]\n",
    "    return  re_df[['song_id','relation1','artist_id']],re_df[['artist_id','relation2','song_id']]"
   ]
  },
  {
   "cell_type": "code",
   "execution_count": 7,
   "id": "27867a7c",
   "metadata": {},
   "outputs": [],
   "source": [
    "def build_relations(df, id2artist_df, df_num):\n",
    "    # triples\n",
    "    # build_song —— artists\n",
    "    song2artist, artist2song = build_song2artist(df)\n",
    "    # build playlist —— song\n",
    "    playlist2song, song2playlist = build_single_bidirection_relation(df,'playlist_id','song_id','collects','collected_by')\n",
    "    \n",
    "    # build album —— song\n",
    "    album2song, song2album = build_single_bidirection_relation(df,'album_id','song_id','contains','contained_by')\n",
    "#     to_csv(f\"data/{df_name}_album2song\",header = False,index=False, sep='\\t')\n",
    "    triples = pd.DataFrame(np.concatenate([d.values for d in [song2artist, artist2song,playlist2song, song2playlist,album2song, song2album]]))\n",
    "    triples.to_csv(f\"triples/rel_triples_{df_num}\",header = False,index=False, sep='\\t')\n",
    "    \n",
    "    # attributes\n",
    "    # build song —— duration\n",
    "    song2duration = build_single_relation(df,'song_id','song_duration','duration')\n",
    "    id2artist = build_single_relation(id2artist_df,0,1,'name')\n",
    "    id2song = build_single_relation(df,'song_id','song_name','name')\n",
    "    id2album = build_single_relation(df,'album_id','album_name','name')\n",
    "    attrs = pd.DataFrame(np.concatenate([d.values for d in [song2duration, id2artist, id2song, id2album]]))\n",
    "    attrs.to_csv(f\"triples/attr_triples_{df_num}\",header = False,index=False, sep='\\t')"
   ]
  },
  {
   "cell_type": "code",
   "execution_count": 8,
   "id": "40931761",
   "metadata": {},
   "outputs": [],
   "source": [
    "build_relations(cloud,cloud_id2artist_df, 1)"
   ]
  },
  {
   "cell_type": "code",
   "execution_count": 9,
   "id": "99a6c09a",
   "metadata": {},
   "outputs": [],
   "source": [
    "build_relations(kuwo,kuwo_id2artist_df, 2)"
   ]
  },
  {
   "cell_type": "code",
   "execution_count": null,
   "id": "12f88f36",
   "metadata": {},
   "outputs": [],
   "source": []
  }
 ],
 "metadata": {
  "kernelspec": {
   "display_name": "Python 3",
   "language": "python",
   "name": "python3"
  },
  "language_info": {
   "codemirror_mode": {
    "name": "ipython",
    "version": 3
   },
   "file_extension": ".py",
   "mimetype": "text/x-python",
   "name": "python",
   "nbconvert_exporter": "python",
   "pygments_lexer": "ipython3",
   "version": "3.8.8"
  }
 },
 "nbformat": 4,
 "nbformat_minor": 5
}
