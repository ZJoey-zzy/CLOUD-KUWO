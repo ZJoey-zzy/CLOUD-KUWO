{
 "cells": [
  {
   "cell_type": "code",
   "execution_count": 5,
   "id": "901fb310",
   "metadata": {},
   "outputs": [],
   "source": [
    "import pandas as pd\n",
    "import numpy as np\n",
    "from pandasql import sqldf\n",
    "from collections import Counter\n",
    "import ast"
   ]
  },
  {
   "cell_type": "code",
   "execution_count": 6,
   "id": "b7181762",
   "metadata": {},
   "outputs": [],
   "source": [
    "cloud = pd.read_csv(\"processed_data/prossed_cloud.csv\", encoding='utf-8')\n",
    "kuwo = pd.read_csv(\"processed_data/prossed_kuwo.csv\", encoding='utf-8')"
   ]
  },
  {
   "cell_type": "code",
   "execution_count": 7,
   "id": "476695d3",
   "metadata": {},
   "outputs": [],
   "source": [
    "cloud_id2artist_df = pd.read_csv(\"id2name/cloud_id2artist\",header=None, encoding='utf-8',delimiter='\\t')\n",
    "kuwo_id2artist_df = pd.read_csv(\"id2name/kuwo_id2artist\", header=None, encoding='utf-8',delimiter='\\t')"
   ]
  },
  {
   "cell_type": "code",
   "execution_count": 8,
   "id": "2dd5b767",
   "metadata": {},
   "outputs": [],
   "source": [
    "def build_single_relation(df,h,t,r):\n",
    "    h_t = df[[h,t]].drop_duplicates()\n",
    "    h_t['relation'] = [r] * h_t.shape[0]\n",
    "    return h_t[[h,'relation',t]]"
   ]
  },
  {
   "cell_type": "code",
   "execution_count": 9,
   "id": "62c77a33",
   "metadata": {
    "scrolled": false
   },
   "outputs": [],
   "source": [
    "def build_single_bidirection_relation(df,h,t,r1,r2):\n",
    "    h_t = df[[h,t]].drop_duplicates()\n",
    "    h_t['relation1'] = [r1] * h_t.shape[0]\n",
    "    h_t['relation2'] = [r2] * h_t.shape[0]\n",
    "    return h_t[[h,'relation1',t]], h_t[[t,'relation2',h]]"
   ]
  },
  {
   "cell_type": "code",
   "execution_count": 10,
   "id": "894720a0",
   "metadata": {},
   "outputs": [],
   "source": [
    "def build_song2artist(df):\n",
    "    li = []\n",
    "    for i in range(df.shape[0]):\n",
    "        song = df.iloc[i].song_id\n",
    "        artists = ast.literal_eval(df.iloc[i].artist_id)\n",
    "        for artist in artists:\n",
    "            li.append([song, artist])\n",
    "    re_df = pd.DataFrame(li).drop_duplicates()\n",
    "    re_df.columns = ['song_id', 'artist_id']\n",
    "    re_df['relation1'] = ['sung_by'] * re_df.shape[0]\n",
    "    re_df['relation2'] = ['sings'] * re_df.shape[0]\n",
    "    return  re_df[['song_id','relation1','artist_id']],re_df[['artist_id','relation2','song_id']]"
   ]
  },
  {
   "cell_type": "code",
   "execution_count": 11,
   "id": "27867a7c",
   "metadata": {},
   "outputs": [],
   "source": [
    "def build_relations(df, id2artist_df, df_num):\n",
    "    # triples\n",
    "    # build_song —— artists\n",
    "    song2artist, artist2song = build_song2artist(df)\n",
    "    # build playlist —— song\n",
    "    playlist2song, song2playlist = build_single_bidirection_relation(df,'playlist_id','song_id','collects','collected_by')\n",
    "    \n",
    "    # build album —— song\n",
    "    album2song, song2album = build_single_bidirection_relation(df,'album_id','song_id','contains','contained_by')\n",
    "#     to_csv(f\"data/{df_name}_album2song\",header = False,index=False, sep='\\t')\n",
    "    triples = pd.DataFrame(np.concatenate([d.values for d in [song2artist, artist2song,playlist2song, song2playlist,album2song, song2album]]))\n",
    "    triples.to_csv(f\"data/rel_triples_{df_num}\",header = False,index=False, sep='\\t')\n",
    "    \n",
    "    # attributes\n",
    "    # build song —— duration\n",
    "    song2duration = build_single_relation(df,'song_id','song_duration','duration')\n",
    "    id2artist = build_single_relation(id2artist_df,0,1,'name')\n",
    "    id2song = build_single_relation(df,'song_id','song_name','name')\n",
    "    id2album = build_single_relation(df,'album_id','album_name','name')\n",
    "    attrs = pd.DataFrame(np.concatenate([d.values for d in [song2duration, id2artist, id2song, id2album]]))\n",
    "    attrs.to_csv(f\"data/attr_triples_{df_num}\",header = False,index=False, sep='\\t')"
   ]
  },
  {
   "cell_type": "code",
   "execution_count": 12,
   "id": "40931761",
   "metadata": {},
   "outputs": [
    {
     "ename": "FileNotFoundError",
     "evalue": "[Errno 2] No such file or directory: 'data/rel_triples_1'",
     "output_type": "error",
     "traceback": [
      "\u001b[1;31m---------------------------------------------------------------------------\u001b[0m",
      "\u001b[1;31mFileNotFoundError\u001b[0m                         Traceback (most recent call last)",
      "\u001b[1;32m<ipython-input-12-d78b726423e8>\u001b[0m in \u001b[0;36m<module>\u001b[1;34m\u001b[0m\n\u001b[1;32m----> 1\u001b[1;33m \u001b[0mbuild_relations\u001b[0m\u001b[1;33m(\u001b[0m\u001b[0mcloud\u001b[0m\u001b[1;33m,\u001b[0m\u001b[0mcloud_id2artist_df\u001b[0m\u001b[1;33m,\u001b[0m \u001b[1;36m1\u001b[0m\u001b[1;33m)\u001b[0m\u001b[1;33m\u001b[0m\u001b[1;33m\u001b[0m\u001b[0m\n\u001b[0m",
      "\u001b[1;32m<ipython-input-11-2b95d428611b>\u001b[0m in \u001b[0;36mbuild_relations\u001b[1;34m(df, id2artist_df, df_num)\u001b[0m\n\u001b[0;32m     10\u001b[0m \u001b[1;31m#     to_csv(f\"data/{df_name}_album2song\",header = False,index=False, sep='\\t')\u001b[0m\u001b[1;33m\u001b[0m\u001b[1;33m\u001b[0m\u001b[1;33m\u001b[0m\u001b[0m\n\u001b[0;32m     11\u001b[0m     \u001b[0mtriples\u001b[0m \u001b[1;33m=\u001b[0m \u001b[0mpd\u001b[0m\u001b[1;33m.\u001b[0m\u001b[0mDataFrame\u001b[0m\u001b[1;33m(\u001b[0m\u001b[0mnp\u001b[0m\u001b[1;33m.\u001b[0m\u001b[0mconcatenate\u001b[0m\u001b[1;33m(\u001b[0m\u001b[1;33m[\u001b[0m\u001b[0md\u001b[0m\u001b[1;33m.\u001b[0m\u001b[0mvalues\u001b[0m \u001b[1;32mfor\u001b[0m \u001b[0md\u001b[0m \u001b[1;32min\u001b[0m \u001b[1;33m[\u001b[0m\u001b[0msong2artist\u001b[0m\u001b[1;33m,\u001b[0m \u001b[0martist2song\u001b[0m\u001b[1;33m,\u001b[0m\u001b[0mplaylist2song\u001b[0m\u001b[1;33m,\u001b[0m \u001b[0msong2playlist\u001b[0m\u001b[1;33m,\u001b[0m\u001b[0malbum2song\u001b[0m\u001b[1;33m,\u001b[0m \u001b[0msong2album\u001b[0m\u001b[1;33m]\u001b[0m\u001b[1;33m]\u001b[0m\u001b[1;33m)\u001b[0m\u001b[1;33m)\u001b[0m\u001b[1;33m\u001b[0m\u001b[1;33m\u001b[0m\u001b[0m\n\u001b[1;32m---> 12\u001b[1;33m     \u001b[0mtriples\u001b[0m\u001b[1;33m.\u001b[0m\u001b[0mto_csv\u001b[0m\u001b[1;33m(\u001b[0m\u001b[1;34mf\"data/rel_triples_{df_num}\"\u001b[0m\u001b[1;33m,\u001b[0m\u001b[0mheader\u001b[0m \u001b[1;33m=\u001b[0m \u001b[1;32mFalse\u001b[0m\u001b[1;33m,\u001b[0m\u001b[0mindex\u001b[0m\u001b[1;33m=\u001b[0m\u001b[1;32mFalse\u001b[0m\u001b[1;33m,\u001b[0m \u001b[0msep\u001b[0m\u001b[1;33m=\u001b[0m\u001b[1;34m'\\t'\u001b[0m\u001b[1;33m)\u001b[0m\u001b[1;33m\u001b[0m\u001b[1;33m\u001b[0m\u001b[0m\n\u001b[0m\u001b[0;32m     13\u001b[0m \u001b[1;33m\u001b[0m\u001b[0m\n\u001b[0;32m     14\u001b[0m     \u001b[1;31m# attributes\u001b[0m\u001b[1;33m\u001b[0m\u001b[1;33m\u001b[0m\u001b[1;33m\u001b[0m\u001b[0m\n",
      "\u001b[1;32mD:\\Anaconda3\\lib\\site-packages\\pandas\\core\\generic.py\u001b[0m in \u001b[0;36mto_csv\u001b[1;34m(self, path_or_buf, sep, na_rep, float_format, columns, header, index, index_label, mode, encoding, compression, quoting, quotechar, line_terminator, chunksize, date_format, doublequote, escapechar, decimal, errors, storage_options)\u001b[0m\n\u001b[0;32m   3385\u001b[0m         )\n\u001b[0;32m   3386\u001b[0m \u001b[1;33m\u001b[0m\u001b[0m\n\u001b[1;32m-> 3387\u001b[1;33m         return DataFrameRenderer(formatter).to_csv(\n\u001b[0m\u001b[0;32m   3388\u001b[0m             \u001b[0mpath_or_buf\u001b[0m\u001b[1;33m,\u001b[0m\u001b[1;33m\u001b[0m\u001b[1;33m\u001b[0m\u001b[0m\n\u001b[0;32m   3389\u001b[0m             \u001b[0mline_terminator\u001b[0m\u001b[1;33m=\u001b[0m\u001b[0mline_terminator\u001b[0m\u001b[1;33m,\u001b[0m\u001b[1;33m\u001b[0m\u001b[1;33m\u001b[0m\u001b[0m\n",
      "\u001b[1;32mD:\\Anaconda3\\lib\\site-packages\\pandas\\io\\formats\\format.py\u001b[0m in \u001b[0;36mto_csv\u001b[1;34m(self, path_or_buf, encoding, sep, columns, index_label, mode, compression, quoting, quotechar, line_terminator, chunksize, date_format, doublequote, escapechar, errors, storage_options)\u001b[0m\n\u001b[0;32m   1081\u001b[0m             \u001b[0mformatter\u001b[0m\u001b[1;33m=\u001b[0m\u001b[0mself\u001b[0m\u001b[1;33m.\u001b[0m\u001b[0mfmt\u001b[0m\u001b[1;33m,\u001b[0m\u001b[1;33m\u001b[0m\u001b[1;33m\u001b[0m\u001b[0m\n\u001b[0;32m   1082\u001b[0m         )\n\u001b[1;32m-> 1083\u001b[1;33m         \u001b[0mcsv_formatter\u001b[0m\u001b[1;33m.\u001b[0m\u001b[0msave\u001b[0m\u001b[1;33m(\u001b[0m\u001b[1;33m)\u001b[0m\u001b[1;33m\u001b[0m\u001b[1;33m\u001b[0m\u001b[0m\n\u001b[0m\u001b[0;32m   1084\u001b[0m \u001b[1;33m\u001b[0m\u001b[0m\n\u001b[0;32m   1085\u001b[0m         \u001b[1;32mif\u001b[0m \u001b[0mcreated_buffer\u001b[0m\u001b[1;33m:\u001b[0m\u001b[1;33m\u001b[0m\u001b[1;33m\u001b[0m\u001b[0m\n",
      "\u001b[1;32mD:\\Anaconda3\\lib\\site-packages\\pandas\\io\\formats\\csvs.py\u001b[0m in \u001b[0;36msave\u001b[1;34m(self)\u001b[0m\n\u001b[0;32m    226\u001b[0m         \"\"\"\n\u001b[0;32m    227\u001b[0m         \u001b[1;31m# apply compression and byte/text conversion\u001b[0m\u001b[1;33m\u001b[0m\u001b[1;33m\u001b[0m\u001b[1;33m\u001b[0m\u001b[0m\n\u001b[1;32m--> 228\u001b[1;33m         with get_handle(\n\u001b[0m\u001b[0;32m    229\u001b[0m             \u001b[0mself\u001b[0m\u001b[1;33m.\u001b[0m\u001b[0mfilepath_or_buffer\u001b[0m\u001b[1;33m,\u001b[0m\u001b[1;33m\u001b[0m\u001b[1;33m\u001b[0m\u001b[0m\n\u001b[0;32m    230\u001b[0m             \u001b[0mself\u001b[0m\u001b[1;33m.\u001b[0m\u001b[0mmode\u001b[0m\u001b[1;33m,\u001b[0m\u001b[1;33m\u001b[0m\u001b[1;33m\u001b[0m\u001b[0m\n",
      "\u001b[1;32mD:\\Anaconda3\\lib\\site-packages\\pandas\\io\\common.py\u001b[0m in \u001b[0;36mget_handle\u001b[1;34m(path_or_buf, mode, encoding, compression, memory_map, is_text, errors, storage_options)\u001b[0m\n\u001b[0;32m    640\u001b[0m                 \u001b[0merrors\u001b[0m \u001b[1;33m=\u001b[0m \u001b[1;34m\"replace\"\u001b[0m\u001b[1;33m\u001b[0m\u001b[1;33m\u001b[0m\u001b[0m\n\u001b[0;32m    641\u001b[0m             \u001b[1;31m# Encoding\u001b[0m\u001b[1;33m\u001b[0m\u001b[1;33m\u001b[0m\u001b[1;33m\u001b[0m\u001b[0m\n\u001b[1;32m--> 642\u001b[1;33m             handle = open(\n\u001b[0m\u001b[0;32m    643\u001b[0m                 \u001b[0mhandle\u001b[0m\u001b[1;33m,\u001b[0m\u001b[1;33m\u001b[0m\u001b[1;33m\u001b[0m\u001b[0m\n\u001b[0;32m    644\u001b[0m                 \u001b[0mioargs\u001b[0m\u001b[1;33m.\u001b[0m\u001b[0mmode\u001b[0m\u001b[1;33m,\u001b[0m\u001b[1;33m\u001b[0m\u001b[1;33m\u001b[0m\u001b[0m\n",
      "\u001b[1;31mFileNotFoundError\u001b[0m: [Errno 2] No such file or directory: 'data/rel_triples_1'"
     ]
    }
   ],
   "source": [
    "build_relations(cloud,cloud_id2artist_df, 1)"
   ]
  },
  {
   "cell_type": "code",
   "execution_count": null,
   "id": "99a6c09a",
   "metadata": {},
   "outputs": [],
   "source": [
    "build_relations(kuwo,kuwo_id2artist_df, 2)"
   ]
  },
  {
   "cell_type": "code",
   "execution_count": null,
   "id": "12f88f36",
   "metadata": {},
   "outputs": [],
   "source": []
  }
 ],
 "metadata": {
  "kernelspec": {
   "display_name": "Python 3",
   "language": "python",
   "name": "python3"
  },
  "language_info": {
   "codemirror_mode": {
    "name": "ipython",
    "version": 3
   },
   "file_extension": ".py",
   "mimetype": "text/x-python",
   "name": "python",
   "nbconvert_exporter": "python",
   "pygments_lexer": "ipython3",
   "version": "3.8.8"
  }
 },
 "nbformat": 4,
 "nbformat_minor": 5
}
